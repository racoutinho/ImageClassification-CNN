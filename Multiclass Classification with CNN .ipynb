{
 "cells": [
  {
   "cell_type": "markdown",
   "metadata": {
    "_uuid": "e7b9642c20d4571d62013fbbfbcb8849dc512afe"
   },
   "source": [
    "# Trabalho 3 - Machine Learning II - Deep Learning\n",
    "Prof: Carlos Padilha\n",
    "\n",
    "#### Alunos:  \n",
    "\n",
    "Roberto A. Coutinho  \n",
    "Thais Galho\n",
    "\n",
    "**Enunciado**\n",
    "\n",
    "1.  Introdução a Deep Learning\n",
    "    Este trabalho visa avaliar o entendimento em relação as redes convolutivas e recorrentes vistas em sala para resolver diversos problemas.  \n",
    "    \n",
    "    \n",
    "2.  A proposta é que a dupla escolha alguma aplicação que mais se interessa e resolva usando os conceitos vistos em sala. Segue alguns exemplos de problemas que vocês podem escolher:\n",
    "\n",
    "    * Classificação de imagens\n",
    "    * Geração automática de imagens • Reconstrução de imagens\n",
    "    * Análise de sentimento\n",
    "    * Sumarização de textos\n",
    "    * Predição em séries temporais\n",
    "\n",
    "Obs. Importante lembrar que é desejado que vocês escolham bases de dados diferentes daquelas usadas em sala.\n",
    "O trabalho pode ser feito em dupla e deve ser enviado por email (carlos.engcomp@gmail.com).\n",
    "\n",
    "**Descrição da proposta de trabalho**\n",
    "\n",
    "1. Decidimos utilizar redes neurais convolutivas para classificação multi-classe de imagens de flores.  \n",
    "\n",
    "    \"No contexto de inteligência artificial e aprendizagem de máquina, uma rede neural convolucional é uma classe de rede neural artificial do tipo feed-forward, que vem sendo aplicada com sucesso no processamento e análise de imagens digitais\"\n",
    "        Fonte: Wikipédia\n",
    "\n",
    "\n",
    "2. Como otimizador usamos o Gradiente Descendente Estocástico  \n",
    "\n",
    "\n",
    "3. Dataset Flowers\n",
    "    * Classes: Tulipas, Dentes de Leão, Rosas, Girassóis e Margaridas\n",
    "\n",
    "\n",
    "4. Usamos o Dataset e ambiente de treinamento do Kaggle.\n",
    "    * GPU on\n",
    "    * Tensorflow + Keras\n"
   ]
  },
  {
   "cell_type": "markdown",
   "metadata": {
    "_uuid": "c8f1cff4f367b7eeccc4b4b7cbd80fbae5331c15"
   },
   "source": [
    "## Imports"
   ]
  },
  {
   "cell_type": "code",
   "execution_count": 1,
   "metadata": {
    "_cell_guid": "b1076dfc-b9ad-4769-8c92-a6c4dae69d19",
    "_uuid": "8f2839f25d086af736a60e9eeb907d3b93b6e0e5"
   },
   "outputs": [
    {
     "name": "stderr",
     "output_type": "stream",
     "text": [
      "Using TensorFlow backend.\n"
     ]
    },
    {
     "name": "stdout",
     "output_type": "stream",
     "text": [
      "['flowers']\n"
     ]
    }
   ],
   "source": [
    "# This Python 3 environment comes with many helpful analytics libraries installed\n",
    "# It is defined by the kaggle/python docker image: https://github.com/kaggle/docker-python\n",
    "# For example, here's several helpful packages to load in \n",
    "\n",
    "import numpy as np # linear algebra\n",
    "import pandas as pd # data processing, CSV file I/O (e.g. pd.read_csv)\n",
    "\n",
    "# Importing the Keras libraries and packages\n",
    "from keras.optimizers import *\n",
    "from keras.metrics import *\n",
    "from keras.callbacks import *\n",
    "from keras.models import Sequential\n",
    "from keras.layers import Conv2D\n",
    "from keras.layers import MaxPooling2D\n",
    "from keras.layers import Flatten\n",
    "from keras.layers import Dense\n",
    "from keras.layers import Dropout\n",
    "\n",
    "from tensorflow.contrib.keras.api.keras.callbacks import Callback\n",
    "from tensorflow.contrib.keras.api.keras.preprocessing.image import ImageDataGenerator\n",
    "from tensorflow.contrib.keras import backend\n",
    "\n",
    "from sklearn.metrics import accuracy_score\n",
    "from sklearn.metrics import classification_report, confusion_matrix\n",
    "\n",
    "\n",
    "# Input data files are available in the \"../input/\" directory.\n",
    "# For example, running this (by clicking run or pressing Shift+Enter) will list the files in the input directory\n",
    "\n",
    "import os\n",
    "print(os.listdir(\"../input\"))\n",
    "\n",
    "script_dir = os.path.dirname(\".\")\n",
    "training_set_path = os.path.join(script_dir, '../input/flowers/flowers/')\n",
    "test_set_path = os.path.join(script_dir, '../input/flowers/flowers/')\n",
    "\n",
    "# Any results you write to the current directory are saved as output."
   ]
  },
  {
   "cell_type": "markdown",
   "metadata": {
    "_uuid": "b4095def1f37db2ef5d4782b77c07844c01e62b9"
   },
   "source": [
    "## Leitura dos datasets de treinamento e teste\n",
    "\n",
    "    * Batch Size : 32\n",
    "    * Input Size : 256x256 "
   ]
  },
  {
   "cell_type": "code",
   "execution_count": 2,
   "metadata": {
    "_uuid": "aa8990ba88e65994e4429abc8eebedd8a8679d41"
   },
   "outputs": [],
   "source": [
    "batch_size = 32\n",
    "input_size = (256, 256)\n",
    "\n",
    "train_datagen = ImageDataGenerator(rescale=1. / 255,\n",
    "                                   shear_range=0.2,\n",
    "                                   zoom_range=0.2,\n",
    "                                   horizontal_flip=True)\n",
    "\n",
    "test_datagen = ImageDataGenerator(rescale=1. / 255, \n",
    "                                  validation_split=0.33)"
   ]
  },
  {
   "cell_type": "markdown",
   "metadata": {
    "_uuid": "88d7151a9984d0ba62c9f881323111f8b15d16de"
   },
   "source": [
    "### Separação de treinamento"
   ]
  },
  {
   "cell_type": "code",
   "execution_count": 3,
   "metadata": {
    "_uuid": "aa8990ba88e65994e4429abc8eebedd8a8679d41"
   },
   "outputs": [
    {
     "name": "stdout",
     "output_type": "stream",
     "text": [
      "Found 4323 images belonging to 5 classes.\n"
     ]
    }
   ],
   "source": [
    "training_set = train_datagen.flow_from_directory(training_set_path,\n",
    "                                                 target_size=input_size,\n",
    "                                                 batch_size=batch_size,\n",
    "                                                 subset=\"training\",\n",
    "                                                 class_mode='categorical')"
   ]
  },
  {
   "cell_type": "markdown",
   "metadata": {
    "_uuid": "ebb2df7afbad647be663ad61820e32ebdb09d8cd"
   },
   "source": [
    "### Separação de teste"
   ]
  },
  {
   "cell_type": "code",
   "execution_count": 4,
   "metadata": {
    "_uuid": "aa8990ba88e65994e4429abc8eebedd8a8679d41"
   },
   "outputs": [
    {
     "name": "stdout",
     "output_type": "stream",
     "text": [
      "Found 1424 images belonging to 5 classes.\n"
     ]
    }
   ],
   "source": [
    "test_set = test_datagen.flow_from_directory(test_set_path,\n",
    "                                            target_size=input_size,\n",
    "                                            batch_size=batch_size,\n",
    "                                            subset=\"validation\",\n",
    "                                            class_mode='categorical',\n",
    "                                            shuffle=False)"
   ]
  },
  {
   "cell_type": "markdown",
   "metadata": {
    "_uuid": "4371e2ae34b03af8b06d6273e3ead1c67f981519"
   },
   "source": [
    "# Definição da Arquitetura da Rede Neural Convolutiva\n",
    "\n",
    "Nessa seção é criada a arquitetura da CNN usando Keras e Tensorflow\n",
    "\n",
    "    - Obs: Essa arquitetura foi inspirada em exemplos do Kaggle."
   ]
  },
  {
   "cell_type": "markdown",
   "metadata": {
    "_uuid": "4947a617b96e424876c5e2e488ab05d9616b9127"
   },
   "source": [
    "### Definição de arquitetura sequencial"
   ]
  },
  {
   "cell_type": "code",
   "execution_count": 5,
   "metadata": {
    "_uuid": "dd999bedc98123b35be68bbeb8645f2d9fbc2f52"
   },
   "outputs": [],
   "source": [
    "cnn = Sequential()"
   ]
  },
  {
   "cell_type": "markdown",
   "metadata": {
    "_uuid": "5991d0ab0b43d6d0df051025056a3826b99939ee"
   },
   "source": [
    "#### Primeira camada convolutiva\n",
    "\n",
    "    * Na primeira camada é preciso setar o input_shape. Nas outras isso é feito por inferência."
   ]
  },
  {
   "cell_type": "code",
   "execution_count": 6,
   "metadata": {
    "_uuid": "dd999bedc98123b35be68bbeb8645f2d9fbc2f52"
   },
   "outputs": [],
   "source": [
    "cnn.add(Conv2D(32, \n",
    "              (3, 3), \n",
    "              input_shape=(256,256,3), \n",
    "              activation='relu'))\n",
    "\n",
    "cnn.add(MaxPooling2D(pool_size=(2, 2), \n",
    "                     data_format=\"channels_first\"))"
   ]
  },
  {
   "cell_type": "markdown",
   "metadata": {
    "_uuid": "d21fd4c19ffc5f4920de6643873d21debe7a809c"
   },
   "source": [
    "#### Segunda camada convolutiva"
   ]
  },
  {
   "cell_type": "code",
   "execution_count": 7,
   "metadata": {
    "_uuid": "dd999bedc98123b35be68bbeb8645f2d9fbc2f52"
   },
   "outputs": [],
   "source": [
    "cnn.add(Conv2D(32, \n",
    "              (3, 3), \n",
    "              activation='relu'))\n",
    "\n",
    "cnn.add(MaxPooling2D(pool_size=(2, 2)))"
   ]
  },
  {
   "cell_type": "markdown",
   "metadata": {
    "_uuid": "50fa104ed631dac1861aef7e25d96cad47392f7f"
   },
   "source": [
    "#### Terceira camada convolutiva"
   ]
  },
  {
   "cell_type": "code",
   "execution_count": 8,
   "metadata": {
    "_uuid": "dd999bedc98123b35be68bbeb8645f2d9fbc2f52"
   },
   "outputs": [],
   "source": [
    "cnn.add(Conv2D(64, \n",
    "              (3, 3), \n",
    "              activation='relu'))\n",
    "\n",
    "cnn.add(MaxPooling2D(pool_size=(2, 2)))"
   ]
  },
  {
   "cell_type": "markdown",
   "metadata": {
    "_uuid": "bda41e1fc35ed061cd8bb17cd369d321e9b652f0"
   },
   "source": [
    "#### Flattening\n",
    "\n",
    "    * Flattening converte o vetor 2d em um vetor de uma dimensão para apresentar à rede."
   ]
  },
  {
   "cell_type": "code",
   "execution_count": 9,
   "metadata": {
    "_uuid": "dd999bedc98123b35be68bbeb8645f2d9fbc2f52"
   },
   "outputs": [],
   "source": [
    "cnn.add(Flatten())"
   ]
  },
  {
   "cell_type": "markdown",
   "metadata": {
    "_uuid": "834a9c7dd3903409a4678c5ec5014b7e3a5a57d7"
   },
   "source": [
    "#### Camada Full Connection\n",
    "    * 64 neurônios\n",
    "    * Função de ativação ReLU"
   ]
  },
  {
   "cell_type": "code",
   "execution_count": 10,
   "metadata": {
    "_uuid": "dd999bedc98123b35be68bbeb8645f2d9fbc2f52"
   },
   "outputs": [],
   "source": [
    "cnn.add(Dense(units=64, \n",
    "              activation='relu'))"
   ]
  },
  {
   "cell_type": "markdown",
   "metadata": {
    "_uuid": "e3dbb04e9a4a878f04e48fd36ce5dd484461f4e4"
   },
   "source": [
    "#### Dropout\n",
    "\n",
    "    * Aplica a técnica de dropout, método de regularização que reduz o overfitting em redes neurais. "
   ]
  },
  {
   "cell_type": "code",
   "execution_count": 11,
   "metadata": {
    "_uuid": "dd999bedc98123b35be68bbeb8645f2d9fbc2f52"
   },
   "outputs": [],
   "source": [
    "cnn.add(Dropout(0.5))"
   ]
  },
  {
   "cell_type": "markdown",
   "metadata": {
    "_uuid": "0e13ac4fc0bf724945242734d64c7c8d5d13afc1"
   },
   "source": [
    "#### Camada Full Connection\n",
    "    * 5 Neurônios de saida (Um neurônio para cada classe)\n",
    "    * Função de ativação Softmax"
   ]
  },
  {
   "cell_type": "code",
   "execution_count": 12,
   "metadata": {
    "_uuid": "dd999bedc98123b35be68bbeb8645f2d9fbc2f52"
   },
   "outputs": [],
   "source": [
    "cnn.add(Dense(units=5, \n",
    "              activation='softmax'))"
   ]
  },
  {
   "cell_type": "markdown",
   "metadata": {
    "_uuid": "c387600b4dfafaa8d8670cb05833e14581a1d92c"
   },
   "source": [
    "### Definição da função de callback\n",
    "\n",
    "Essa função é utilizada para mostrar a evolução do treinamento entre as épocas, apresentado a acurácia atual versus a acurácia de validação para cada época de treinamento."
   ]
  },
  {
   "cell_type": "code",
   "execution_count": 14,
   "metadata": {
    "_uuid": "02b13e467e5921a84bafaafdb50c7f0b0025fe53"
   },
   "outputs": [],
   "source": [
    "class LossHistory(Callback):\n",
    "    def __init__(self):\n",
    "        super().__init__()\n",
    "        self.epoch_id = 0\n",
    "        self.losses = ''\n",
    "\n",
    "    def on_epoch_end(self, epoch, logs={}):\n",
    "        self.losses += \"Epoch {}: accuracy -> {:.4f}, val_accuracy -> {:.4f}\\n\"\\\n",
    "            .format(str(self.epoch_id), logs.get('acc'), logs.get('val_acc'))\n",
    "        self.epoch_id += 1\n",
    "\n",
    "    def on_train_begin(self, logs={}):\n",
    "        self.losses += 'Iniciando treinamento...\\n'\n",
    "        \n",
    "history = LossHistory()\n",
    "\n",
    "class AccuracyHistory(Callback):\n",
    "    def on_train_begin(self, logs={}):\n",
    "        self.acc = []\n",
    "\n",
    "    def on_epoch_end(self, batch, logs={}):\n",
    "        self.acc.append(logs.get('acc'))\n",
    "\n",
    "acc_history = AccuracyHistory()"
   ]
  },
  {
   "cell_type": "code",
   "execution_count": 15,
   "metadata": {
    "_uuid": "1d8fdc16358fb2b21f15b65a509d57576c1f008b"
   },
   "outputs": [],
   "source": [
    "# Declarado mas não usado, pois não melhora o desempenho.\n",
    "early_stopping = EarlyStopping(monitor='val_loss', min_delta=1e-6, patience=5)"
   ]
  },
  {
   "cell_type": "markdown",
   "metadata": {
    "_uuid": "3e07100b4ae4f0dc84243dbb77d432892aed8ed0"
   },
   "source": [
    "###  Definição da função de otimização Gradiente Descendente Estocástico"
   ]
  },
  {
   "cell_type": "code",
   "execution_count": 16,
   "metadata": {
    "_uuid": "e8e816bcd4d7fade037b3e33994a91f57c4ec3fb"
   },
   "outputs": [],
   "source": [
    "optim = SGD(lr=0.01, \n",
    "          momentum=0.0, \n",
    "          decay=0.0, \n",
    "          nesterov=False)"
   ]
  },
  {
   "cell_type": "markdown",
   "metadata": {
    "_uuid": "87fcd1fd0143ece991a3154c32d8a54246d01fd8"
   },
   "source": [
    "## Compilação do modelo\n",
    "\n",
    "Aqui é compilado a arquitetura usando como função de perda a crossentropia categorica, o otimizador SGD e a métrica de acurácia."
   ]
  },
  {
   "cell_type": "code",
   "execution_count": 17,
   "metadata": {
    "_uuid": "e8e816bcd4d7fade037b3e33994a91f57c4ec3fb"
   },
   "outputs": [],
   "source": [
    "cnn.compile(optimizer=optim, \n",
    "           loss='categorical_crossentropy', \n",
    "           metrics=['accuracy'])"
   ]
  },
  {
   "cell_type": "markdown",
   "metadata": {
    "_uuid": "9fa0eceef2ee72736115174cfbeaf14fc07d32f9"
   },
   "source": [
    "## Execução do treinamento"
   ]
  },
  {
   "cell_type": "code",
   "execution_count": 18,
   "metadata": {
    "_uuid": "84cd4d6db6d50be1885d22226a2c30c448ef08cb",
    "scrolled": true
   },
   "outputs": [
    {
     "name": "stdout",
     "output_type": "stream",
     "text": [
      "Epoch 1/90\n",
      "32/31 [==============================] - 24s 756ms/step - loss: 1.5923 - acc: 0.2598 - val_loss: 1.3633 - val_acc: 0.8594\n",
      "Epoch 2/90\n",
      "32/31 [==============================] - 22s 675ms/step - loss: 1.5325 - acc: 0.3115 - val_loss: 1.7721 - val_acc: 0.2656\n",
      "Epoch 3/90\n",
      "32/31 [==============================] - 21s 671ms/step - loss: 1.4670 - acc: 0.3525 - val_loss: 1.3203 - val_acc: 0.2109\n",
      "Epoch 4/90\n",
      "32/31 [==============================] - 21s 661ms/step - loss: 1.4014 - acc: 0.3770 - val_loss: 1.2582 - val_acc: 0.4375\n",
      "Epoch 5/90\n",
      "32/31 [==============================] - 19s 605ms/step - loss: 1.3902 - acc: 0.3936 - val_loss: 1.3827 - val_acc: 0.2812\n",
      "Epoch 6/90\n",
      "32/31 [==============================] - 20s 619ms/step - loss: 1.3062 - acc: 0.4199 - val_loss: 1.6753 - val_acc: 0.0703\n",
      "Epoch 7/90\n",
      "32/31 [==============================] - 20s 613ms/step - loss: 1.2491 - acc: 0.4893 - val_loss: 0.9630 - val_acc: 0.6562\n",
      "Epoch 8/90\n",
      "32/31 [==============================] - 19s 604ms/step - loss: 1.2519 - acc: 0.5000 - val_loss: 1.0166 - val_acc: 0.6250\n",
      "Epoch 9/90\n",
      "32/31 [==============================] - 19s 584ms/step - loss: 1.2366 - acc: 0.4613 - val_loss: 0.8890 - val_acc: 0.6875\n",
      "Epoch 10/90\n",
      "32/31 [==============================] - 19s 601ms/step - loss: 1.2412 - acc: 0.4600 - val_loss: 1.1554 - val_acc: 0.4922\n",
      "Epoch 11/90\n",
      "32/31 [==============================] - 19s 604ms/step - loss: 1.2061 - acc: 0.4971 - val_loss: 1.1660 - val_acc: 0.5156\n",
      "Epoch 12/90\n",
      "32/31 [==============================] - 19s 604ms/step - loss: 1.1748 - acc: 0.5146 - val_loss: 1.4728 - val_acc: 0.4286\n",
      "Epoch 13/90\n",
      "32/31 [==============================] - 19s 588ms/step - loss: 1.1691 - acc: 0.5194 - val_loss: 1.0348 - val_acc: 0.5234\n",
      "Epoch 14/90\n",
      "32/31 [==============================] - 19s 608ms/step - loss: 1.1782 - acc: 0.5303 - val_loss: 0.9837 - val_acc: 0.7031\n",
      "Epoch 15/90\n",
      "32/31 [==============================] - 20s 617ms/step - loss: 1.1828 - acc: 0.5283 - val_loss: 1.0207 - val_acc: 0.6797\n",
      "Epoch 16/90\n",
      "32/31 [==============================] - 19s 601ms/step - loss: 1.1363 - acc: 0.5264 - val_loss: 1.0488 - val_acc: 0.6953\n",
      "Epoch 17/90\n",
      "32/31 [==============================] - 19s 590ms/step - loss: 1.0974 - acc: 0.5324 - val_loss: 0.8286 - val_acc: 0.7031\n",
      "Epoch 18/90\n",
      "32/31 [==============================] - 20s 621ms/step - loss: 1.1446 - acc: 0.5293 - val_loss: 1.1019 - val_acc: 0.4375\n",
      "Epoch 19/90\n",
      "32/31 [==============================] - 20s 621ms/step - loss: 1.1630 - acc: 0.5146 - val_loss: 0.6488 - val_acc: 0.8672\n",
      "Epoch 20/90\n",
      "32/31 [==============================] - 20s 615ms/step - loss: 1.1099 - acc: 0.5752 - val_loss: 0.9252 - val_acc: 0.6406\n",
      "Epoch 21/90\n",
      "32/31 [==============================] - 20s 619ms/step - loss: 1.1025 - acc: 0.5508 - val_loss: 0.9478 - val_acc: 0.5859\n",
      "Epoch 22/90\n",
      "32/31 [==============================] - 19s 594ms/step - loss: 1.1796 - acc: 0.5307 - val_loss: 1.1220 - val_acc: 0.4844\n",
      "Epoch 23/90\n",
      "32/31 [==============================] - 20s 613ms/step - loss: 1.0864 - acc: 0.5713 - val_loss: 1.2658 - val_acc: 0.4375\n",
      "Epoch 24/90\n",
      "32/31 [==============================] - 19s 599ms/step - loss: 1.1068 - acc: 0.5361 - val_loss: 1.1319 - val_acc: 0.5000\n",
      "Epoch 25/90\n",
      "32/31 [==============================] - 19s 599ms/step - loss: 1.0450 - acc: 0.5811 - val_loss: 0.7610 - val_acc: 0.7188\n",
      "Epoch 26/90\n",
      "32/31 [==============================] - 19s 598ms/step - loss: 1.0837 - acc: 0.5836 - val_loss: 0.5879 - val_acc: 0.8438\n",
      "Epoch 27/90\n",
      "32/31 [==============================] - 20s 611ms/step - loss: 1.0862 - acc: 0.5723 - val_loss: 0.8704 - val_acc: 0.7656\n",
      "Epoch 28/90\n",
      "32/31 [==============================] - 20s 615ms/step - loss: 1.1232 - acc: 0.5762 - val_loss: 0.9341 - val_acc: 0.5938\n",
      "Epoch 29/90\n",
      "32/31 [==============================] - 20s 621ms/step - loss: 1.0742 - acc: 0.5518 - val_loss: 0.9874 - val_acc: 0.4766\n",
      "Epoch 30/90\n",
      "32/31 [==============================] - 19s 598ms/step - loss: 1.1022 - acc: 0.5774 - val_loss: 1.1864 - val_acc: 0.5547\n",
      "Epoch 31/90\n",
      "32/31 [==============================] - 20s 624ms/step - loss: 1.0429 - acc: 0.5820 - val_loss: 0.6931 - val_acc: 0.8359\n",
      "Epoch 32/90\n",
      "32/31 [==============================] - 20s 621ms/step - loss: 1.0379 - acc: 0.6201 - val_loss: 0.7373 - val_acc: 0.7109\n",
      "Epoch 33/90\n",
      "32/31 [==============================] - 20s 621ms/step - loss: 1.0456 - acc: 0.5820 - val_loss: 0.8141 - val_acc: 0.7266\n",
      "Epoch 34/90\n",
      "32/31 [==============================] - 19s 602ms/step - loss: 1.0591 - acc: 0.5872 - val_loss: 1.2284 - val_acc: 0.5357\n",
      "Epoch 35/90\n",
      "32/31 [==============================] - 19s 608ms/step - loss: 1.0440 - acc: 0.5508 - val_loss: 1.1590 - val_acc: 0.5156\n",
      "Epoch 36/90\n",
      "32/31 [==============================] - 19s 591ms/step - loss: 1.0340 - acc: 0.5859 - val_loss: 0.9963 - val_acc: 0.7109\n",
      "Epoch 37/90\n",
      "32/31 [==============================] - 19s 604ms/step - loss: 1.0210 - acc: 0.6191 - val_loss: 0.8302 - val_acc: 0.7656\n",
      "Epoch 38/90\n",
      "32/31 [==============================] - 19s 601ms/step - loss: 1.0323 - acc: 0.5996 - val_loss: 0.6094 - val_acc: 0.8594\n",
      "Epoch 39/90\n",
      "32/31 [==============================] - 19s 585ms/step - loss: 1.0542 - acc: 0.5735 - val_loss: 1.0823 - val_acc: 0.5625\n",
      "Epoch 40/90\n",
      "32/31 [==============================] - 19s 598ms/step - loss: 1.0344 - acc: 0.5898 - val_loss: 1.0728 - val_acc: 0.5234\n",
      "Epoch 41/90\n",
      "32/31 [==============================] - 19s 605ms/step - loss: 1.0141 - acc: 0.6113 - val_loss: 0.9396 - val_acc: 0.5469\n",
      "Epoch 42/90\n",
      "32/31 [==============================] - 20s 620ms/step - loss: 0.9938 - acc: 0.5977 - val_loss: 0.7111 - val_acc: 0.8359\n",
      "Epoch 43/90\n",
      "32/31 [==============================] - 19s 587ms/step - loss: 1.0142 - acc: 0.6051 - val_loss: 0.7286 - val_acc: 0.7578\n",
      "Epoch 44/90\n",
      "32/31 [==============================] - 19s 600ms/step - loss: 1.0050 - acc: 0.6035 - val_loss: 0.8892 - val_acc: 0.5781\n",
      "Epoch 45/90\n",
      "32/31 [==============================] - 19s 608ms/step - loss: 1.0284 - acc: 0.5908 - val_loss: 1.0413 - val_acc: 0.6161\n",
      "Epoch 46/90\n",
      "32/31 [==============================] - 20s 617ms/step - loss: 1.0061 - acc: 0.6084 - val_loss: 0.9875 - val_acc: 0.6953\n",
      "Epoch 47/90\n",
      "32/31 [==============================] - 19s 587ms/step - loss: 0.9798 - acc: 0.6067 - val_loss: 0.7442 - val_acc: 0.7812\n",
      "Epoch 48/90\n",
      "32/31 [==============================] - 19s 606ms/step - loss: 0.9710 - acc: 0.6152 - val_loss: 0.6980 - val_acc: 0.7812\n",
      "Epoch 49/90\n",
      "32/31 [==============================] - 20s 615ms/step - loss: 1.0083 - acc: 0.6133 - val_loss: 0.5158 - val_acc: 0.8750\n",
      "Epoch 50/90\n",
      "32/31 [==============================] - 20s 616ms/step - loss: 1.0011 - acc: 0.5996 - val_loss: 0.8895 - val_acc: 0.6797\n",
      "Epoch 51/90\n",
      "32/31 [==============================] - 19s 588ms/step - loss: 1.0233 - acc: 0.6165 - val_loss: 0.8867 - val_acc: 0.5391\n",
      "Epoch 52/90\n",
      "32/31 [==============================] - 19s 600ms/step - loss: 0.9605 - acc: 0.6191 - val_loss: 1.0083 - val_acc: 0.5391\n",
      "Epoch 53/90\n",
      "32/31 [==============================] - 20s 611ms/step - loss: 1.0088 - acc: 0.6133 - val_loss: 0.3355 - val_acc: 0.9453\n",
      "Epoch 54/90\n",
      "32/31 [==============================] - 19s 602ms/step - loss: 0.9585 - acc: 0.6367 - val_loss: 0.5315 - val_acc: 0.8438\n",
      "Epoch 55/90\n",
      "32/31 [==============================] - 19s 598ms/step - loss: 0.9550 - acc: 0.6279 - val_loss: 0.9484 - val_acc: 0.5859\n",
      "Epoch 56/90\n",
      "32/31 [==============================] - 18s 572ms/step - loss: 1.1013 - acc: 0.5737 - val_loss: 0.9414 - val_acc: 0.6719\n",
      "Epoch 57/90\n",
      "32/31 [==============================] - 20s 613ms/step - loss: 0.9898 - acc: 0.6211 - val_loss: 1.0166 - val_acc: 0.6786\n",
      "Epoch 58/90\n",
      "32/31 [==============================] - 19s 607ms/step - loss: 0.9905 - acc: 0.6270 - val_loss: 1.0449 - val_acc: 0.5391\n",
      "Epoch 59/90\n",
      "32/31 [==============================] - 19s 603ms/step - loss: 0.9293 - acc: 0.6338 - val_loss: 0.6036 - val_acc: 0.7656\n",
      "Epoch 60/90\n",
      "32/31 [==============================] - 19s 590ms/step - loss: 0.9427 - acc: 0.6364 - val_loss: 0.7480 - val_acc: 0.7812\n",
      "Epoch 61/90\n",
      "32/31 [==============================] - 20s 621ms/step - loss: 0.9301 - acc: 0.6172 - val_loss: 0.8159 - val_acc: 0.7344\n",
      "Epoch 62/90\n",
      "32/31 [==============================] - 19s 609ms/step - loss: 0.9169 - acc: 0.6543 - val_loss: 0.9171 - val_acc: 0.5703\n",
      "Epoch 63/90\n",
      "32/31 [==============================] - 19s 599ms/step - loss: 0.9467 - acc: 0.6602 - val_loss: 1.0489 - val_acc: 0.5234\n",
      "Epoch 64/90\n",
      "32/31 [==============================] - 19s 585ms/step - loss: 0.9603 - acc: 0.6413 - val_loss: 0.4890 - val_acc: 0.8750\n",
      "Epoch 65/90\n",
      "32/31 [==============================] - 19s 604ms/step - loss: 0.9311 - acc: 0.6406 - val_loss: 0.7693 - val_acc: 0.7500\n",
      "Epoch 66/90\n",
      "32/31 [==============================] - 19s 599ms/step - loss: 0.9311 - acc: 0.6260 - val_loss: 0.7846 - val_acc: 0.7109\n",
      "Epoch 67/90\n",
      "32/31 [==============================] - 19s 602ms/step - loss: 0.8930 - acc: 0.6455 - val_loss: 0.9077 - val_acc: 0.7031\n",
      "Epoch 68/90\n",
      "32/31 [==============================] - 19s 581ms/step - loss: 0.9632 - acc: 0.6370 - val_loss: 1.1157 - val_acc: 0.5268\n",
      "Epoch 69/90\n",
      "32/31 [==============================] - 20s 617ms/step - loss: 0.9277 - acc: 0.6387 - val_loss: 0.9102 - val_acc: 0.6875\n",
      "Epoch 70/90\n",
      "32/31 [==============================] - 20s 610ms/step - loss: 0.9191 - acc: 0.6533 - val_loss: 0.8323 - val_acc: 0.7500\n",
      "Epoch 71/90\n",
      "32/31 [==============================] - 19s 606ms/step - loss: 0.9486 - acc: 0.6504 - val_loss: 0.5401 - val_acc: 0.8359\n",
      "Epoch 72/90\n",
      "32/31 [==============================] - 20s 617ms/step - loss: 0.9126 - acc: 0.6465 - val_loss: 0.6990 - val_acc: 0.8125\n",
      "Epoch 73/90\n",
      "32/31 [==============================] - 19s 597ms/step - loss: 0.9604 - acc: 0.6226 - val_loss: 0.9566 - val_acc: 0.5625\n",
      "Epoch 74/90\n",
      "32/31 [==============================] - 20s 611ms/step - loss: 0.9275 - acc: 0.6357 - val_loss: 0.9668 - val_acc: 0.4922\n",
      "Epoch 75/90\n",
      "32/31 [==============================] - 19s 601ms/step - loss: 0.9196 - acc: 0.6689 - val_loss: 0.7335 - val_acc: 0.7578\n",
      "Epoch 76/90\n",
      "32/31 [==============================] - 19s 602ms/step - loss: 0.9128 - acc: 0.6475 - val_loss: 0.6161 - val_acc: 0.8359\n",
      "Epoch 77/90\n",
      "32/31 [==============================] - 19s 580ms/step - loss: 0.9537 - acc: 0.6282 - val_loss: 0.6875 - val_acc: 0.7734\n",
      "Epoch 78/90\n",
      "32/31 [==============================] - 19s 602ms/step - loss: 0.8849 - acc: 0.6641 - val_loss: 1.0220 - val_acc: 0.6875\n",
      "Epoch 79/90\n",
      "32/31 [==============================] - 19s 601ms/step - loss: 0.8989 - acc: 0.6621 - val_loss: 0.9607 - val_acc: 0.5893\n",
      "Epoch 80/90\n",
      "32/31 [==============================] - 19s 608ms/step - loss: 0.8759 - acc: 0.6650 - val_loss: 0.9069 - val_acc: 0.7266\n",
      "Epoch 81/90\n",
      "32/31 [==============================] - 19s 591ms/step - loss: 0.8929 - acc: 0.6487 - val_loss: 0.8335 - val_acc: 0.7578\n",
      "Epoch 82/90\n",
      "32/31 [==============================] - 19s 604ms/step - loss: 0.9080 - acc: 0.6494 - val_loss: 0.4948 - val_acc: 0.8672\n",
      "Epoch 83/90\n",
      "32/31 [==============================] - 19s 595ms/step - loss: 0.9343 - acc: 0.6406 - val_loss: 0.7015 - val_acc: 0.8047\n",
      "Epoch 84/90\n",
      "32/31 [==============================] - 19s 598ms/step - loss: 0.8465 - acc: 0.6855 - val_loss: 1.0393 - val_acc: 0.5703\n",
      "Epoch 85/90\n",
      "32/31 [==============================] - 19s 585ms/step - loss: 0.8702 - acc: 0.6820 - val_loss: 1.8363 - val_acc: 0.2812\n",
      "Epoch 86/90\n",
      "32/31 [==============================] - 19s 606ms/step - loss: 0.8571 - acc: 0.6660 - val_loss: 0.6991 - val_acc: 0.7266\n",
      "Epoch 87/90\n",
      "32/31 [==============================] - 20s 617ms/step - loss: 0.8426 - acc: 0.6816 - val_loss: 0.4338 - val_acc: 0.8906\n",
      "Epoch 88/90\n",
      "32/31 [==============================] - 20s 617ms/step - loss: 0.9451 - acc: 0.6426 - val_loss: 0.7589 - val_acc: 0.6953\n",
      "Epoch 89/90\n",
      "32/31 [==============================] - 20s 612ms/step - loss: 0.8787 - acc: 0.6768 - val_loss: 0.8611 - val_acc: 0.6484\n",
      "Epoch 90/90\n",
      "32/31 [==============================] - 19s 595ms/step - loss: 0.8415 - acc: 0.6882 - val_loss: 0.7658 - val_acc: 0.6875\n"
     ]
    },
    {
     "data": {
      "text/plain": [
       "<keras.callbacks.History at 0x7f4648146a20>"
      ]
     },
     "execution_count": 18,
     "metadata": {},
     "output_type": "execute_result"
    }
   ],
   "source": [
    "cnn.fit_generator(training_set,\n",
    "                 steps_per_epoch=1000/batch_size,\n",
    "                 epochs=90,\n",
    "                 validation_data=test_set,\n",
    "                 validation_steps=100/batch_size,\n",
    "                 workers=24,\n",
    "                 callbacks=[history, acc_history])"
   ]
  },
  {
   "cell_type": "markdown",
   "metadata": {
    "_uuid": "4132e79a792eb31c17bd04b95aa4a5b18cf946c9"
   },
   "source": [
    "# Apresentação dos Resultados\n",
    "\n",
    "  \n",
    "  \n",
    "Nessa seção são apresentados os resultados da execução do treinamento usando Redes Neurais Convolutivas para classficação múltipla no dataset sobre imagens Flores."
   ]
  },
  {
   "cell_type": "code",
   "execution_count": 20,
   "metadata": {
    "_uuid": "c82176ffd61313469ff1f9ba4567ab46c91510c5"
   },
   "outputs": [
    {
     "name": "stdout",
     "output_type": "stream",
     "text": [
      "[0.7664623615447055, 0.6931179775280899]\n"
     ]
    }
   ],
   "source": [
    "score = cnn.evaluate_generator(test_set, 45)\n",
    "print(score)"
   ]
  },
  {
   "cell_type": "code",
   "execution_count": 21,
   "metadata": {
    "_uuid": "75dbf4220d223745ed292c8a685ee2b2c49f7237"
   },
   "outputs": [
    {
     "name": "stdout",
     "output_type": "stream",
     "text": [
      "Found 1424 images belonging to 5 classes.\n"
     ]
    }
   ],
   "source": [
    "validation_set = test_datagen.flow_from_directory(test_set_path,\n",
    "                                            target_size=input_size,\n",
    "                                            batch_size=batch_size,\n",
    "                                            subset=\"validation\",\n",
    "                                            class_mode='categorical',\n",
    "                                            shuffle=False)"
   ]
  },
  {
   "cell_type": "markdown",
   "metadata": {
    "_uuid": "76fd0d1287bb3fa583969dffead05df6fc4dc122"
   },
   "source": [
    "### Predição da validação\n",
    "\n",
    "Predição da amostragem destinada a validação"
   ]
  },
  {
   "cell_type": "code",
   "execution_count": 22,
   "metadata": {
    "_uuid": "75dbf4220d223745ed292c8a685ee2b2c49f7237"
   },
   "outputs": [],
   "source": [
    "Y_pred = cnn.predict_generator(validation_set, 45)\n",
    "y_pred = np.argmax(Y_pred, axis=1)"
   ]
  },
  {
   "cell_type": "markdown",
   "metadata": {
    "_uuid": "6c63c97dec63979ca110f42991d3afdde8aa6f14"
   },
   "source": [
    "### Acurácia\n",
    "\n",
    "Apresentação da acurácia na amostragem de validação"
   ]
  },
  {
   "cell_type": "code",
   "execution_count": 23,
   "metadata": {
    "_uuid": "ac85c23c1956ba1b5d7e39292c736af01436bbc3"
   },
   "outputs": [
    {
     "data": {
      "text/plain": [
       "0.6931179775280899"
      ]
     },
     "execution_count": 23,
     "metadata": {},
     "output_type": "execute_result"
    }
   ],
   "source": [
    "accuracy_score(validation_set.classes, y_pred)"
   ]
  },
  {
   "cell_type": "markdown",
   "metadata": {
    "_uuid": "2650d99682c78cd58c9b2c30339fd27851dc3490"
   },
   "source": [
    " ### Matriz de confusão\n",
    "\n",
    "Apresentação da matriz de confusáo da classificação da amostragem de validação"
   ]
  },
  {
   "cell_type": "code",
   "execution_count": 24,
   "metadata": {
    "_uuid": "75dbf4220d223745ed292c8a685ee2b2c49f7237",
    "scrolled": true
   },
   "outputs": [
    {
     "name": "stdout",
     "output_type": "stream",
     "text": [
      "[[143  74  10  10  16]\n",
      " [  3 313   1  20  10]\n",
      " [  7  38 105   6 102]\n",
      " [  5  43   0 185   9]\n",
      " [  4  38  20  21 241]]\n"
     ]
    }
   ],
   "source": [
    "print(confusion_matrix(validation_set.classes,y_pred))"
   ]
  },
  {
   "cell_type": "markdown",
   "metadata": {
    "_uuid": "f9a5a47a245b830a148b37f0fbd8102894a72724"
   },
   "source": [
    "### Plotagem da acurácia X épocas\n"
   ]
  },
  {
   "cell_type": "code",
   "execution_count": 28,
   "metadata": {
    "_uuid": "ce961e8ff31f7fa73ba090437aa5a90d8d296ea4"
   },
   "outputs": [
    {
     "data": {
      "image/png": "[encoded data removed]",
      "text/plain": [
       "<Figure size 432x288 with 1 Axes>"
      ]
     },
     "metadata": {
      "needs_background": "light"
     },
     "output_type": "display_data"
    }
   ],
   "source": [
    "import matplotlib.pylab as plt\n",
    "\n",
    "plt.plot(range(1, 91), acc_history.acc)\n",
    "plt.xlabel('Épocas')\n",
    "plt.ylabel('Acurácia')\n",
    "plt.show()"
   ]
  },
  {
   "cell_type": "markdown",
   "metadata": {
    "_uuid": "28e17ec51bf582d086f668b63d3b25a66d463a3a"
   },
   "source": [
    "# Conclusões Finais\n",
    "\n",
    "Observando através de diversas execuções do treinamento no Kernel do Kaggle para tirar vantagem do uso da GPU, podemos concluir que a arquitetura proposta obteve uma acurácia de 71% usando como otimizador o Gradiente Descendente Estocástico.\n",
    "\n",
    "Para se obter melhores resultados, podemos utilizar outros otimizadores como, por exemplo, o Adam. Entretanto, há também inúmeras oportunidades de alterar os hyper-paramêtros da rede, bem como adicionar ou remover camadas convolutivas. Porém, esses testes demandam mais tempo e validação para se obter um modelo com melhores métricas.\n",
    "\n",
    "Mas de forma geral, a CNN conseguiu generalizar o problema e obteve resultado satisfatório, sendo que a quinta classe foi a que demonstrou pior performance, e nesse caso, pode-se aplicar técnicas de pré-processamento ou pesos a fim de melhorar especificamente para essa determinada classe um melhor desempenho de classificação."
   ]
  },
  {
   "cell_type": "code",
   "execution_count": null,
   "metadata": {
    "_uuid": "c53085a5154e2b71fee4549dcf819fbd9821a9e6"
   },
   "outputs": [],
   "source": []
  }
 ],
 "metadata": {
  "kernelspec": {
   "display_name": "Python 3",
   "language": "python",
   "name": "python3"
  },
  "language_info": {
   "codemirror_mode": {
    "name": "ipython",
    "version": 3
   },
   "file_extension": ".py",
   "mimetype": "text/x-python",
   "name": "python",
   "nbconvert_exporter": "python",
   "pygments_lexer": "ipython3",
   "version": "3.6.5"
  }
 },
 "nbformat": 4,
 "nbformat_minor": 1
}
